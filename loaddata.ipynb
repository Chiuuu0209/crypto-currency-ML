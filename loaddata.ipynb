{
 "cells": [
  {
   "cell_type": "code",
   "execution_count": 1,
   "metadata": {},
   "outputs": [],
   "source": [
    "import json\n",
    "from Config import*\n",
    "import os\n",
    "import datetime\n",
    "\n",
    "import matplotlib as mpl\n",
    "import matplotlib.pyplot as plt\n",
    "import numpy as np\n",
    "import pandas as pd"
   ]
  },
  {
   "cell_type": "code",
   "execution_count": 12,
   "metadata": {},
   "outputs": [],
   "source": [
    "coin_name = \"ETH-USD\"\n",
    "training_window = 180\n",
    "labeling_window = 60\n",
    "feature_window = 30\n",
    "col = ['time', 'low', 'high', 'open', 'close', 'volume']"
   ]
  },
  {
   "cell_type": "code",
   "execution_count": 3,
   "metadata": {},
   "outputs": [],
   "source": [
    "def load_data(coin_name):    \n",
    "    ordered_data = []\n",
    "    \n",
    "    for month in HISTORIC_MONTHS[coin_name]:\n",
    "        print(\">> Loading month: \",month)\n",
    "        try:\n",
    "            with open(f'{RAWDATASET_DIR}{coin_name}/{GRANULARITY}/{month}_{coin_name}.json',) as json_file:\n",
    "                raw_data = json.load(json_file)\n",
    "\n",
    "            for hour_data in raw_data:\n",
    "                if len(hour_data)!=0:\n",
    "                    for minute_data in hour_data:\n",
    "                        ordered_data.append(minute_data)\n",
    "        except:\n",
    "            print(\">> Missing \",month,\" data.\")\n",
    "    return ordered_data\n"
   ]
  },
  {
   "cell_type": "code",
   "execution_count": 13,
   "metadata": {},
   "outputs": [
    {
     "name": "stdout",
     "output_type": "stream",
     "text": [
      ">> Loading month:  2016_07\n",
      ">> Loading month:  2016_08\n",
      ">> Loading month:  2016_09\n",
      ">> Loading month:  2016_10\n",
      ">> Loading month:  2016_11\n",
      ">> Loading month:  2016_12\n",
      ">> Loading month:  2017_01\n",
      ">> Loading month:  2017_02\n",
      ">> Loading month:  2017_03\n",
      ">> Loading month:  2017_04\n",
      ">> Loading month:  2017_05\n",
      ">> Loading month:  2017_06\n",
      ">> Loading month:  2017_07\n",
      ">> Loading month:  2017_08\n",
      ">> Loading month:  2017_09\n",
      ">> Loading month:  2017_10\n",
      ">> Loading month:  2017_11\n",
      ">> Loading month:  2017_12\n",
      ">> Loading month:  2018_01\n",
      ">> Loading month:  2018_02\n",
      ">> Loading month:  2018_03\n",
      ">> Loading month:  2018_04\n",
      ">> Loading month:  2018_05\n",
      ">> Loading month:  2018_06\n",
      ">> Loading month:  2018_07\n",
      ">> Loading month:  2018_08\n",
      ">> Loading month:  2018_09\n",
      ">> Loading month:  2018_10\n",
      ">> Loading month:  2018_11\n",
      ">> Loading month:  2018_12\n",
      ">> Loading month:  2019_01\n",
      ">> Loading month:  2019_02\n",
      ">> Loading month:  2019_03\n",
      ">> Loading month:  2019_04\n",
      ">> Loading month:  2019_05\n",
      ">> Loading month:  2019_06\n",
      ">> Loading month:  2019_07\n",
      ">> Loading month:  2019_08\n",
      ">> Loading month:  2019_09\n",
      ">> Loading month:  2019_10\n",
      ">> Loading month:  2019_11\n",
      ">> Loading month:  2019_12\n",
      ">> Loading month:  2020_01\n",
      ">> Loading month:  2020_02\n",
      ">> Loading month:  2020_03\n",
      ">> Loading month:  2020_04\n",
      ">> Loading month:  2020_05\n",
      ">> Loading month:  2020_06\n",
      ">> Loading month:  2020_07\n",
      ">> Loading month:  2020_08\n",
      ">> Loading month:  2020_09\n",
      ">> Loading month:  2020_10\n",
      ">> Loading month:  2020_11\n",
      ">> Loading month:  2020_12\n",
      ">> Loading month:  2021_01\n",
      ">> Loading month:  2021_02\n",
      ">> Loading month:  2021_03\n",
      ">> Loading month:  2021_04\n",
      ">> Loading month:  2021_05\n",
      ">> Loading month:  2021_06\n"
     ]
    }
   ],
   "source": [
    "ordered_data = load_data(coin_name)"
   ]
  },
  {
   "cell_type": "code",
   "execution_count": 14,
   "metadata": {},
   "outputs": [
    {
     "name": "stdout",
     "output_type": "stream",
     "text": [
      "          time    low   high   open  close       volume\n",
      "0   1467331380  12.48  12.48  12.48  12.48     5.000000\n",
      "1   1467331440  12.48  12.48  12.48  12.48     0.037791\n",
      "2   1467331860  12.47  12.47  12.47  12.47     3.725791\n",
      "3   1467331920  12.46  12.46  12.46  12.46     1.000000\n",
      "4   1467332340  12.48  12.48  12.48  12.48    30.000000\n",
      "5   1467332640  12.45  12.47  12.47  12.45     9.600000\n",
      "6   1467333600  12.47  12.47  12.47  12.47     7.995260\n",
      "7   1467333720  12.45  12.45  12.45  12.45   140.000000\n",
      "8   1467334320  12.42  12.42  12.42  12.42    94.433135\n",
      "9   1467334440  12.43  12.43  12.43  12.43     0.100000\n",
      "10  1467335340  12.40  12.54  12.40  12.54  1365.949011\n",
      "11  1467335880  12.50  12.53  12.50  12.53     0.040000\n",
      "12  1467339420  12.53  12.53  12.53  12.53     0.003183\n",
      "13  1467340020  12.51  12.51  12.51  12.51    15.939392\n",
      "14  1467340140  12.51  12.53  12.51  12.53    24.000000\n",
      "15  1467342480  12.46  12.50  12.50  12.46     0.800100\n",
      "16  1467342600  12.46  12.46  12.46  12.46    35.763522\n",
      "17  1467342660  12.46  12.46  12.46  12.46    39.470480\n",
      "18  1467342720  12.45  12.46  12.46  12.45    73.282763\n",
      "19  1467343140  12.50  12.53  12.50  12.53    11.940251\n",
      "20  1467343380  12.53  12.54  12.53  12.54   318.267793\n",
      "21  1467344040  12.50  12.50  12.50  12.50    37.799978\n",
      "22  1467344280  12.50  12.50  12.50  12.50     0.370000\n",
      "23  1467344340  12.46  12.50  12.50  12.46    99.123538\n",
      "24  1467344400  12.44  12.45  12.45  12.44   227.999647\n",
      "25  1467345420  12.44  12.44  12.44  12.44    50.000000\n",
      "26  1467347820  12.25  12.44  12.44  12.25  3133.035880\n",
      "27  1467348300  12.45  12.50  12.45  12.50     3.916275\n",
      "28  1467348900  12.40  12.40  12.40  12.40     1.373294\n",
      "29  1467352140  12.36  12.45  12.36  12.45     0.835348\n",
      "30  1467354360  12.45  12.49  12.45  12.49   119.500000\n",
      "31  1467354480  12.35  12.41  12.41  12.35    49.990475\n",
      "32  1467355380  12.43  12.43  12.43  12.43    19.800000\n",
      "33  1467355800  12.35  12.35  12.35  12.35    39.205602\n",
      "34  1467356400  12.34  12.35  12.35  12.34    51.297369\n",
      "35  1467356460  12.34  12.34  12.34  12.34    61.664715\n",
      "36  1467356520  12.33  12.34  12.34  12.33    23.644571\n",
      "37  1467356580  12.33  12.33  12.33  12.33     0.871901\n",
      "38  1467358020  12.40  12.40  12.40  12.40     0.289454\n",
      "39  1467358320  12.33  12.33  12.33  12.33     0.669075\n",
      "40  1467358440  12.33  12.33  12.33  12.33    10.000007\n",
      "41  1467358500  12.33  12.33  12.33  12.33    10.000022\n",
      "42  1467358560  12.33  12.33  12.33  12.33     0.370000\n",
      "43  1467358620  12.33  12.33  12.33  12.33     0.370000\n",
      "44  1467358680  12.32  12.33  12.33  12.32    27.071263\n",
      "45  1467358740  12.32  12.32  12.32  12.32    37.725000\n",
      "46  1467358800  12.32  12.32  12.32  12.32     0.370000\n",
      "47  1467358860  12.32  12.32  12.32  12.32     0.370000\n",
      "48  1467358920  12.32  12.32  12.32  12.32     0.370000\n",
      "49  1467358980  12.32  12.32  12.32  12.32     0.370000\n"
     ]
    }
   ],
   "source": [
    "df_data = pd.DataFrame(ordered_data,columns=col)\n",
    "print(df_data[:50])\n"
   ]
  },
  {
   "cell_type": "code",
   "execution_count": 15,
   "metadata": {},
   "outputs": [],
   "source": [
    "df_data.to_csv(f\"{coin_name}.csv\", index=False)"
   ]
  },
  {
   "cell_type": "code",
   "execution_count": 16,
   "metadata": {},
   "outputs": [],
   "source": [
    "rd_data = pd.read_csv(f'{coin_name}.csv')"
   ]
  },
  {
   "cell_type": "code",
   "execution_count": 17,
   "metadata": {},
   "outputs": [
    {
     "data": {
      "text/html": [
       "<div>\n",
       "<style scoped>\n",
       "    .dataframe tbody tr th:only-of-type {\n",
       "        vertical-align: middle;\n",
       "    }\n",
       "\n",
       "    .dataframe tbody tr th {\n",
       "        vertical-align: top;\n",
       "    }\n",
       "\n",
       "    .dataframe thead th {\n",
       "        text-align: right;\n",
       "    }\n",
       "</style>\n",
       "<table border=\"1\" class=\"dataframe\">\n",
       "  <thead>\n",
       "    <tr style=\"text-align: right;\">\n",
       "      <th></th>\n",
       "      <th>time</th>\n",
       "      <th>low</th>\n",
       "      <th>high</th>\n",
       "      <th>open</th>\n",
       "      <th>close</th>\n",
       "      <th>volume</th>\n",
       "    </tr>\n",
       "  </thead>\n",
       "  <tbody>\n",
       "    <tr>\n",
       "      <th>0</th>\n",
       "      <td>1467331380</td>\n",
       "      <td>12.48</td>\n",
       "      <td>12.48</td>\n",
       "      <td>12.48</td>\n",
       "      <td>12.48</td>\n",
       "      <td>5.000000</td>\n",
       "    </tr>\n",
       "    <tr>\n",
       "      <th>1</th>\n",
       "      <td>1467331440</td>\n",
       "      <td>12.48</td>\n",
       "      <td>12.48</td>\n",
       "      <td>12.48</td>\n",
       "      <td>12.48</td>\n",
       "      <td>0.037791</td>\n",
       "    </tr>\n",
       "    <tr>\n",
       "      <th>2</th>\n",
       "      <td>1467331860</td>\n",
       "      <td>12.47</td>\n",
       "      <td>12.47</td>\n",
       "      <td>12.47</td>\n",
       "      <td>12.47</td>\n",
       "      <td>3.725791</td>\n",
       "    </tr>\n",
       "    <tr>\n",
       "      <th>3</th>\n",
       "      <td>1467331920</td>\n",
       "      <td>12.46</td>\n",
       "      <td>12.46</td>\n",
       "      <td>12.46</td>\n",
       "      <td>12.46</td>\n",
       "      <td>1.000000</td>\n",
       "    </tr>\n",
       "    <tr>\n",
       "      <th>4</th>\n",
       "      <td>1467332340</td>\n",
       "      <td>12.48</td>\n",
       "      <td>12.48</td>\n",
       "      <td>12.48</td>\n",
       "      <td>12.48</td>\n",
       "      <td>30.000000</td>\n",
       "    </tr>\n",
       "    <tr>\n",
       "      <th>...</th>\n",
       "      <td>...</td>\n",
       "      <td>...</td>\n",
       "      <td>...</td>\n",
       "      <td>...</td>\n",
       "      <td>...</td>\n",
       "      <td>...</td>\n",
       "    </tr>\n",
       "    <tr>\n",
       "      <th>2445761</th>\n",
       "      <td>1625097300</td>\n",
       "      <td>2270.46</td>\n",
       "      <td>2273.73</td>\n",
       "      <td>2272.99</td>\n",
       "      <td>2271.49</td>\n",
       "      <td>142.388106</td>\n",
       "    </tr>\n",
       "    <tr>\n",
       "      <th>2445762</th>\n",
       "      <td>1625097360</td>\n",
       "      <td>2268.00</td>\n",
       "      <td>2272.41</td>\n",
       "      <td>2271.49</td>\n",
       "      <td>2272.06</td>\n",
       "      <td>211.124427</td>\n",
       "    </tr>\n",
       "    <tr>\n",
       "      <th>2445763</th>\n",
       "      <td>1625097420</td>\n",
       "      <td>2271.51</td>\n",
       "      <td>2275.81</td>\n",
       "      <td>2272.06</td>\n",
       "      <td>2273.54</td>\n",
       "      <td>60.946414</td>\n",
       "    </tr>\n",
       "    <tr>\n",
       "      <th>2445764</th>\n",
       "      <td>1625097480</td>\n",
       "      <td>2273.51</td>\n",
       "      <td>2276.48</td>\n",
       "      <td>2273.80</td>\n",
       "      <td>2275.67</td>\n",
       "      <td>149.293145</td>\n",
       "    </tr>\n",
       "    <tr>\n",
       "      <th>2445765</th>\n",
       "      <td>1625097540</td>\n",
       "      <td>2274.63</td>\n",
       "      <td>2276.99</td>\n",
       "      <td>2275.68</td>\n",
       "      <td>2276.72</td>\n",
       "      <td>57.239114</td>\n",
       "    </tr>\n",
       "  </tbody>\n",
       "</table>\n",
       "<p>2445766 rows × 6 columns</p>\n",
       "</div>"
      ],
      "text/plain": [
       "               time      low     high     open    close      volume\n",
       "0        1467331380    12.48    12.48    12.48    12.48    5.000000\n",
       "1        1467331440    12.48    12.48    12.48    12.48    0.037791\n",
       "2        1467331860    12.47    12.47    12.47    12.47    3.725791\n",
       "3        1467331920    12.46    12.46    12.46    12.46    1.000000\n",
       "4        1467332340    12.48    12.48    12.48    12.48   30.000000\n",
       "...             ...      ...      ...      ...      ...         ...\n",
       "2445761  1625097300  2270.46  2273.73  2272.99  2271.49  142.388106\n",
       "2445762  1625097360  2268.00  2272.41  2271.49  2272.06  211.124427\n",
       "2445763  1625097420  2271.51  2275.81  2272.06  2273.54   60.946414\n",
       "2445764  1625097480  2273.51  2276.48  2273.80  2275.67  149.293145\n",
       "2445765  1625097540  2274.63  2276.99  2275.68  2276.72   57.239114\n",
       "\n",
       "[2445766 rows x 6 columns]"
      ]
     },
     "execution_count": 17,
     "metadata": {},
     "output_type": "execute_result"
    }
   ],
   "source": [
    "rd_data"
   ]
  },
  {
   "cell_type": "code",
   "execution_count": null,
   "metadata": {},
   "outputs": [],
   "source": [
    "np_data = np.array(ordered_data)\n",
    "np_data"
   ]
  },
  {
   "cell_type": "code",
   "execution_count": null,
   "metadata": {},
   "outputs": [],
   "source": [
    "with open(f'{coin_name}_historic_data.json','w') as outfile:\n",
    "    json.dump(ordered_data,outfile)"
   ]
  },
  {
   "cell_type": "code",
   "execution_count": null,
   "metadata": {},
   "outputs": [],
   "source": [
    "ordered_data[:10]"
   ]
  },
  {
   "cell_type": "code",
   "execution_count": null,
   "metadata": {},
   "outputs": [],
   "source": [
    "load_data=None\n",
    "with open(f'{coin_name}_historic_data.json',) as infile:\n",
    "    load_data = json.load(infile)\n",
    "print(load_data[:50])"
   ]
  },
  {
   "cell_type": "code",
   "execution_count": null,
   "metadata": {},
   "outputs": [],
   "source": [
    "for i in range(len(ordered_data)-1):\n",
    "#     print(ordered_data[i])\n",
    "    ordered_data[i+1].append(ordered_data[i][2]-ordered_data[i][1])"
   ]
  },
  {
   "cell_type": "code",
   "execution_count": null,
   "metadata": {},
   "outputs": [],
   "source": [
    "# for i in range(len(df_data)):\n",
    "#     df_data[i+1]['change'] = df_data[i]['high'] - df_data[i]['low']"
   ]
  },
  {
   "cell_type": "code",
   "execution_count": null,
   "metadata": {},
   "outputs": [],
   "source": []
  }
 ],
 "metadata": {
  "interpreter": {
   "hash": "81daf0d33ffaf868564a32d282c00cf0ea7e2057521253ec87426cc3b4e7a409"
  },
  "kernelspec": {
   "display_name": "Python 3",
   "language": "python",
   "name": "python3"
  },
  "language_info": {
   "codemirror_mode": {
    "name": "ipython",
    "version": 3
   },
   "file_extension": ".py",
   "mimetype": "text/x-python",
   "name": "python",
   "nbconvert_exporter": "python",
   "pygments_lexer": "ipython3",
   "version": "3.6.9"
  }
 },
 "nbformat": 4,
 "nbformat_minor": 2
}
